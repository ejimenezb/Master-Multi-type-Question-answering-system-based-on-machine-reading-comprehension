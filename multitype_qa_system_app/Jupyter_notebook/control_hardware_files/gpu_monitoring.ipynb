{
 "cells": [
  {
   "cell_type": "code",
   "execution_count": null,
   "id": "3f12e0dd-1b6b-48eb-908e-a0264a565811",
   "metadata": {
    "tags": []
   },
   "outputs": [
    {
     "name": "stdout",
     "output_type": "stream",
     "text": [
      "\n",
      "GPU Stats:\n",
      "GPU 0:\n",
      "  - Temperature: 70°C\n",
      "  - Utilization: 14%\n",
      "  - Memory Used: 1382 MB\n",
      "  - Memory Total: 8192 MB\n"
     ]
    }
   ],
   "source": [
    "import time\n",
    "import gpustat\n",
    "from IPython.display import clear_output\n",
    "\n",
    "def print_gpu_stats():\n",
    "    while True:\n",
    "        gpu_stats = gpustat.GPUStatCollection.new_query()\n",
    "        clear_output(wait=True)  # Limpia la salida de la celda\n",
    "        print(\"\\nGPU Stats:\")\n",
    "        for gpu in gpu_stats:\n",
    "            print(f\"GPU {gpu.index}:\")\n",
    "            print(f\"  - Temperature: {gpu['temperature.gpu']}°C\")\n",
    "            print(f\"  - Utilization: {gpu['utilization.gpu']}%\")\n",
    "            print(f\"  - Memory Used: {gpu['memory.used']} MB\")\n",
    "            print(f\"  - Memory Total: {gpu['memory.total']} MB\")\n",
    "        time.sleep(5)  # Espera 5 segundos antes de la siguiente actualización\n",
    "\n",
    "# Llama a la función para imprimir las estadísticas en tiempo real\n",
    "print_gpu_stats()"
   ]
  },
  {
   "cell_type": "code",
   "execution_count": null,
   "id": "e7017027-86ae-4f9e-9286-cf5e324da349",
   "metadata": {},
   "outputs": [],
   "source": []
  }
 ],
 "metadata": {
  "kernelspec": {
   "display_name": "THESIS",
   "language": "python",
   "name": "thesis"
  },
  "language_info": {
   "codemirror_mode": {
    "name": "ipython",
    "version": 3
   },
   "file_extension": ".py",
   "mimetype": "text/x-python",
   "name": "python",
   "nbconvert_exporter": "python",
   "pygments_lexer": "ipython3",
   "version": "3.11.4"
  }
 },
 "nbformat": 4,
 "nbformat_minor": 5
}
