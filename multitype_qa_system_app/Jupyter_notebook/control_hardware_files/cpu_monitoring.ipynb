{
 "cells": [
  {
   "cell_type": "code",
   "execution_count": null,
   "id": "a8d0218a-b4d6-4711-9741-2c70cb40a6fe",
   "metadata": {
    "tags": []
   },
   "outputs": [
    {
     "name": "stdout",
     "output_type": "stream",
     "text": [
      "CPU Usage: 72.7% | Memory Usage: 69.6%\n"
     ]
    }
   ],
   "source": [
    "import time\n",
    "import psutil\n",
    "from IPython.display import clear_output\n",
    "\n",
    "def print_cpu_memory_stats():\n",
    "    while True:\n",
    "        cpu_percent = psutil.cpu_percent()\n",
    "        memory_percent = psutil.virtual_memory().percent\n",
    "        clear_output(wait=True)  # Limpia la salida de la celda\n",
    "        print(f\"CPU Usage: {cpu_percent}% | Memory Usage: {memory_percent}%\")\n",
    "        time.sleep(5)  # Espera 5 segundos antes de la siguiente actualización\n",
    "\n",
    "# Llama a la función para imprimir las estadísticas en tiempo real\n",
    "print_cpu_memory_stats()"
   ]
  },
  {
   "cell_type": "code",
   "execution_count": null,
   "id": "bd7c6657-5bfd-46bc-8f77-4a0a9a3b727f",
   "metadata": {},
   "outputs": [],
   "source": []
  },
  {
   "cell_type": "code",
   "execution_count": null,
   "id": "e3ead6ae-e85d-4903-a769-7fe9d68212be",
   "metadata": {},
   "outputs": [],
   "source": []
  }
 ],
 "metadata": {
  "kernelspec": {
   "display_name": "THESIS",
   "language": "python",
   "name": "thesis"
  },
  "language_info": {
   "codemirror_mode": {
    "name": "ipython",
    "version": 3
   },
   "file_extension": ".py",
   "mimetype": "text/x-python",
   "name": "python",
   "nbconvert_exporter": "python",
   "pygments_lexer": "ipython3",
   "version": "3.11.4"
  }
 },
 "nbformat": 4,
 "nbformat_minor": 5
}
