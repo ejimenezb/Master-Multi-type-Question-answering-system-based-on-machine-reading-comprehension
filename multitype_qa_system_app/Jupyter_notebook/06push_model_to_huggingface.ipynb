{
 "cells": [
  {
   "cell_type": "code",
   "execution_count": 1,
   "id": "ace59951-49ab-4c2c-b1eb-539ef7c75291",
   "metadata": {},
   "outputs": [
    {
     "data": {
      "application/vnd.jupyter.widget-view+json": {
       "model_id": "0a3c86edc14842089b5c5897dab56bc9",
       "version_major": 2,
       "version_minor": 0
      },
      "text/plain": [
       "VBox(children=(HTML(value='<center> <img\\nsrc=https://huggingface.co/front/assets/huggingface_logo-noborder.sv…"
      ]
     },
     "metadata": {},
     "output_type": "display_data"
    }
   ],
   "source": [
    "from huggingface_hub import notebook_login\n",
    "\n",
    "notebook_login()"
   ]
  },
  {
   "cell_type": "code",
   "execution_count": 5,
   "id": "af9d9a17-a5d3-409b-93ea-7499fcf4be08",
   "metadata": {},
   "outputs": [],
   "source": [
    "from transformers import AutoModelForQuestionAnswering, AutoTokenizer, pipeline\n",
    "\n",
    "# Suponiendo que estás utilizando un modelo BERT para Question Answering\n",
    "model_path = 'medical_trained_model' #model_checkpoint = \"deepset/bert-base-cased-squad2\"\n",
    "\n",
    "# Cargar el modelo desde el directorio\n",
    "loaded_model = AutoModelForQuestionAnswering.from_pretrained(model_path)\n",
    "tokenizer = AutoTokenizer.from_pretrained(model_path)\n",
    "\n",
    "# Crear un pipeline para utilizar el modelo cargado\n",
    "qa_pipeline = pipeline(\"question-answering\", model=loaded_model, tokenizer=tokenizer)"
   ]
  },
  {
   "cell_type": "code",
   "execution_count": 6,
   "id": "09af9aab-5a4b-4331-8436-8be3dc113580",
   "metadata": {},
   "outputs": [
    {
     "data": {
      "application/vnd.jupyter.widget-view+json": {
       "model_id": "797df0f5d7184efe8ccecbcb1068daf6",
       "version_major": 2,
       "version_minor": 0
      },
      "text/plain": [
       "pytorch_model.bin:   0%|          | 0.00/431M [00:00<?, ?B/s]"
      ]
     },
     "metadata": {},
     "output_type": "display_data"
    }
   ],
   "source": [
    "model_pushed = loaded_model.push_to_hub(\"bert-medical-emrqa-squadv2\")"
   ]
  },
  {
   "cell_type": "code",
   "execution_count": null,
   "id": "127ccdf5-7182-4447-8a7b-fe62381c4355",
   "metadata": {},
   "outputs": [],
   "source": []
  }
 ],
 "metadata": {
  "kernelspec": {
   "display_name": "THESIS",
   "language": "python",
   "name": "thesis"
  },
  "language_info": {
   "codemirror_mode": {
    "name": "ipython",
    "version": 3
   },
   "file_extension": ".py",
   "mimetype": "text/x-python",
   "name": "python",
   "nbconvert_exporter": "python",
   "pygments_lexer": "ipython3",
   "version": "3.11.4"
  }
 },
 "nbformat": 4,
 "nbformat_minor": 5
}
