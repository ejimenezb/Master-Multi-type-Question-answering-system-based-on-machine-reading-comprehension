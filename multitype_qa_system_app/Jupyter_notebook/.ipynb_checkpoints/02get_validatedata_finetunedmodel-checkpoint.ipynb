{
 "cells": [
  {
   "cell_type": "code",
   "execution_count": null,
   "id": "d4fa9a16-9569-4a3b-80dd-6336e98c7f30",
   "metadata": {
    "tags": []
   },
   "outputs": [],
   "source": [
    "#GET OBJECT DATASET\n",
    "import pickle\n",
    "#datasets = load_dataset(\"squad_v2\" if squad_v2 else \"squad\")\n",
    "# Cargar el DatasetDict desde el archivo\n",
    "with open(\"dataset_object_pkl/medical_dataset.pkl\", \"rb\") as archivo: #\"/content/sample_data/medical_dataset.pkl\"\n",
    "    datasets = pickle.load(archivo)"
   ]
  },
  {
   "cell_type": "code",
   "execution_count": null,
   "id": "896d6dcb-065a-4d66-9827-5947bc64191b",
   "metadata": {
    "tags": []
   },
   "outputs": [],
   "source": [
    "datasets"
   ]
  },
  {
   "cell_type": "code",
   "execution_count": null,
   "id": "77056278-f3ea-42d1-953e-a08d35951db8",
   "metadata": {
    "tags": []
   },
   "outputs": [],
   "source": [
    "#TEST THE MODEL\n",
    "from transformers import pipeline, AutoModelForQuestionAnswering, AutoTokenizer\n",
    "\n",
    "# Suponiendo que estás utilizando un modelo BERT para Question Answering\n",
    "model_path = 'medical_trained_model' #model_checkpoint = \"deepset/bert-base-cased-squad2\"\n",
    "\n",
    "# Cargar el modelo desde el directorio\n",
    "loaded_model = AutoModelForQuestionAnswering.from_pretrained(model_path)\n",
    "tokenizer = AutoTokenizer.from_pretrained(model_path)\n",
    "\n",
    "# Crear un pipeline para utilizar el modelo cargado\n",
    "qa_pipeline = pipeline(\"question-answering\", model=loaded_model, tokenizer=tokenizer)\n",
    "\n",
    "question = \"Has the pt. ever been on caltrate plus d2 tablets before\"#\"¿Cuál es la capital de Francia?\"\n",
    "context = \"The patient is a 76-year-old female with a history of mitral regurgitation, congestive heart failure, recurrent UTIs, and uterine prolapse who presented with chills and hypotension and was admitted to the Medical ICU for treatment of septic shock. Mean arterial pressures were kept above 65 with Levophed and antibiotics were changed to penicillin 3 million units IV q.4h. and gentamicin 50 mg IV q.8h. An ATEE on 10/19 showed severe mitral regurgitation with posterior leaflet calcifications and linear density concerning for endocarditis, for which a PICC line was placed on 1/19 for a six-week course of penicillin 3 million units IV q.4h. and two-week course of gentamicin 50 mg IV q.8h. until 2/25. The patient was initially treated with Levophed for her hypotension until 11/0, and was placed on Levofloxacin and Vancomycin to treat Gram-positive cocci bacteremia and UTI. She was maintained on telemetry and was found to be a normal sinus rhythm with ectopy, including short once of nonsustained ventricular tachycardia. She was started on Lopressor 12.5 mg t.i.d. on 3/18, and this was increased to 25 mg b.i.d. at discharge, with her heart rates continuing to be between the 70s and the 90s, however, with less episodes of ectopy. Aspirin was given, and Lipitor was initially held for an initial transaminitis presumed to be secondary to shock liver. She had guaiac positive stools in the medical ICU, her hematocrit was stable around 33%, and her iron studies suggested anemia of chronic disease with possibly overlying iron deficiency. She had a normal random cortisol level of 35.3, and her Hemoglobin A1c was 6.5, so she was maintained thereafter only on insulin sliding scale and rarely required any coverage. The patient was kept on Lovenox and Protonix and her DISCHARGE MEDICATIONS include Aspirin 81 mg daily, iron sulfate 325 mg daily, gentamicin sulfate 50 mg IV q.8h. until 2/25 for a two-week course, penicillin G potassium 3 million units IV q.4h. until 0/12 for a six-week course, Lopressor 25 mg b.i.d., Caltrate plus D2 tablets p.o. daily, Lipitor 10 mg daily, and Protonix 40 mg daily. She was discharged to rehabilitation at Acanmingpeerra Virg Tantblu Medical Center in order to be able to get her antibiotic therapy, and her physicians will attempt to add the ACE back onto her medical regimen for better afterload reduction as her blood pressure tolerates, and potentially they will add her back on to the Lasix as well. She will require weekly lab draws to check her electrolytes and CBC while she is on the antibiotics.\"\n",
    "#context = \"París, conocida como la Ciudad de la Luz, es la capital de Francia y uno de los destinos turísticos más icónicos del mundo. Con su arquitectura impresionante, que incluye la Torre Eiffel y la Catedral de Notre-Dame, París atrae a visitantes de todas partes en busca de su rica historia, arte y cultura. Además de sus monumentos emblemáticos, la ciudad ofrece una amplia gama de experiencias, desde paseos a lo largo del río Sena hasta la exploración de encantadores barrios como Montmartre. París no solo es el corazón político y económico de Francia, sino también un lugar donde la gastronomía refinada y la moda elegante se entrelazan con la vida cotidiana.\"#\"París es la capital de Francia.\"\n",
    "\n",
    "# Realizar predicciones\n",
    "result = qa_pipeline(question=question, context=context)\n",
    "\n",
    "# Imprimir los resultados\n",
    "print(result)"
   ]
  },
  {
   "cell_type": "code",
   "execution_count": null,
   "id": "cb1c5225-0e72-47aa-8fe0-5c5b416331e6",
   "metadata": {
    "tags": []
   },
   "outputs": [],
   "source": [
    "datasets"
   ]
  },
  {
   "cell_type": "code",
   "execution_count": null,
   "id": "40c1b065-a0d4-4542-a2d2-7adf10384a85",
   "metadata": {
    "tags": []
   },
   "outputs": [],
   "source": [
    "#WRITE PREDICTION FILE WITH OWN MODEL \n",
    "import json\n",
    "from IPython.display import clear_output\n",
    "#print(datasets['validation'][:11])\n",
    "#print(\"\\nIterar:\")\n",
    "print(len(datasets['validation']))\n",
    "evaluation_results = []\n",
    "for i in range(len(datasets['validation'])):\n",
    "    clear_output(wait=True)  # Limpia la salida de la celda\n",
    "    print(len(datasets['validation']))\n",
    "    print(i+1)\n",
    "    \n",
    "    context = datasets['validation'][i]['context']\n",
    "    question = datasets['validation'][i]['question']\n",
    "    answer_true = datasets['validation'][i]['answers']['text'][0]\n",
    "    #print(answer_true)\n",
    "    answer_predicted = qa_pipeline(question=question, context=context)\n",
    "    #print(type(answer_predicted['answer']))\n",
    "    comparison = {\"answer_predicted\": answer_predicted['answer'],\"answer_true\":answer_true}\n",
    "    evaluation_results.append(comparison)\n",
    "\n",
    "datos = evaluation_results\n",
    "\n",
    "#WRITE NEW FILE WITH VALIDATE DATA           \n",
    "file_name2 = \"json_validatedata_files/data_validation.json\"            \n",
    "# Abrir el archivo en modo escritura\n",
    "with open(file_name2, 'w') as archivo_json:\n",
    "    # Escribir el contenido del diccionario en el archivo JSON\n",
    "    json.dump(datos, archivo_json)\n",
    "\n",
    "print(f\"Se escribieron {len(datos)} textos medicos.\")\n",
    "print(f\"Se ha guardado la información en {file_name2}\") "
   ]
  }
 ],
 "metadata": {
  "kernelspec": {
   "display_name": "THESIS",
   "language": "python",
   "name": "thesis"
  },
  "language_info": {
   "codemirror_mode": {
    "name": "ipython",
    "version": 3
   },
   "file_extension": ".py",
   "mimetype": "text/x-python",
   "name": "python",
   "nbconvert_exporter": "python",
   "pygments_lexer": "ipython3",
   "version": "3.11.4"
  }
 },
 "nbformat": 4,
 "nbformat_minor": 5
}
