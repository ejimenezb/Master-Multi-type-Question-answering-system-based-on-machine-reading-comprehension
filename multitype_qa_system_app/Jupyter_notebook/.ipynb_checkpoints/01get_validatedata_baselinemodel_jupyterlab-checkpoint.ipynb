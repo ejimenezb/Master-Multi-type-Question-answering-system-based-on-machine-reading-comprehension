{
 "cells": [
  {
   "cell_type": "code",
   "execution_count": 3,
   "id": "9d594320-4d3e-465d-b056-e38561933127",
   "metadata": {
    "tags": []
   },
   "outputs": [],
   "source": [
    "import pickle\n",
    "with open(\"dataset_object_pkl/medical_dataset.pkl\", \"rb\") as archivo:\n",
    "    datasets = pickle.load(archivo)"
   ]
  },
  {
   "cell_type": "code",
   "execution_count": null,
   "id": "ccf3862a-2c02-4812-9055-dcddc352d52b",
   "metadata": {},
   "outputs": [],
   "source": [
    "datasets"
   ]
  },
  {
   "cell_type": "code",
   "execution_count": 1,
   "id": "b11f1007-267d-4fb4-8d6e-002b10d3d368",
   "metadata": {
    "tags": []
   },
   "outputs": [],
   "source": [
    "from transformers import pipeline, AutoModelForQuestionAnswering, AutoTokenizer\n",
    "model_path = \"deepset/bert-base-cased-squad2\"\n",
    "loaded_model = AutoModelForQuestionAnswering.from_pretrained(model_path)\n",
    "tokenizer = AutoTokenizer.from_pretrained(model_path)\n",
    "qa_pipeline = pipeline(\"question-answering\", model=loaded_model, tokenizer=tokenizer)"
   ]
  },
  {
   "cell_type": "code",
   "execution_count": 2,
   "id": "11ce8cde-6ea8-4381-8fe4-2ac044778ae5",
   "metadata": {
    "tags": []
   },
   "outputs": [
    {
     "name": "stdout",
     "output_type": "stream",
     "text": [
      "{'score': 0.00037262929254211485, 'start': 2029, 'end': 2037, 'answer': 'Caltrate'}\n"
     ]
    }
   ],
   "source": [
    "question = \"Has the pt. ever been on caltrate plus d2 tablets before\"#\"¿Cuál es la capital de Francia?\"\n",
    "context = \"The patient is a 76-year-old female with a history of mitral regurgitation, congestive heart failure, recurrent UTIs, and uterine prolapse who presented with chills and hypotension and was admitted to the Medical ICU for treatment of septic shock. Mean arterial pressures were kept above 65 with Levophed and antibiotics were changed to penicillin 3 million units IV q.4h. and gentamicin 50 mg IV q.8h. An ATEE on 10/19 showed severe mitral regurgitation with posterior leaflet calcifications and linear density concerning for endocarditis, for which a PICC line was placed on 1/19 for a six-week course of penicillin 3 million units IV q.4h. and two-week course of gentamicin 50 mg IV q.8h. until 2/25. The patient was initially treated with Levophed for her hypotension until 11/0, and was placed on Levofloxacin and Vancomycin to treat Gram-positive cocci bacteremia and UTI. She was maintained on telemetry and was found to be a normal sinus rhythm with ectopy, including short once of nonsustained ventricular tachycardia. She was started on Lopressor 12.5 mg t.i.d. on 3/18, and this was increased to 25 mg b.i.d. at discharge, with her heart rates continuing to be between the 70s and the 90s, however, with less episodes of ectopy. Aspirin was given, and Lipitor was initially held for an initial transaminitis presumed to be secondary to shock liver. She had guaiac positive stools in the medical ICU, her hematocrit was stable around 33%, and her iron studies suggested anemia of chronic disease with possibly overlying iron deficiency. She had a normal random cortisol level of 35.3, and her Hemoglobin A1c was 6.5, so she was maintained thereafter only on insulin sliding scale and rarely required any coverage. The patient was kept on Lovenox and Protonix and her DISCHARGE MEDICATIONS include Aspirin 81 mg daily, iron sulfate 325 mg daily, gentamicin sulfate 50 mg IV q.8h. until 2/25 for a two-week course, penicillin G potassium 3 million units IV q.4h. until 0/12 for a six-week course, Lopressor 25 mg b.i.d., Caltrate plus D2 tablets p.o. daily, Lipitor 10 mg daily, and Protonix 40 mg daily. She was discharged to rehabilitation at Acanmingpeerra Virg Tantblu Medical Center in order to be able to get her antibiotic therapy, and her physicians will attempt to add the ACE back onto her medical regimen for better afterload reduction as her blood pressure tolerates, and potentially they will add her back on to the Lasix as well. She will require weekly lab draws to check her electrolytes and CBC while she is on the antibiotics.\"\n",
    "result = qa_pipeline(question=question, context=context)\n",
    "print(result)"
   ]
  },
  {
   "cell_type": "code",
   "execution_count": null,
   "id": "81a821e3-e515-4562-a94a-f88c0bed375b",
   "metadata": {
    "tags": []
   },
   "outputs": [
    {
     "name": "stdout",
     "output_type": "stream",
     "text": [
      "32739\n",
      "850\n"
     ]
    }
   ],
   "source": [
    "import json\n",
    "from IPython.display import clear_output\n",
    "\n",
    "print(len(datasets['validation']))\n",
    "evaluation_results = []\n",
    "for i in range(len(datasets['validation'])):\n",
    "    clear_output(wait=True)  \n",
    "    print(len(datasets['validation']))\n",
    "    print(i+1)\n",
    "    \n",
    "    context = datasets['validation'][i]['context']\n",
    "    question = datasets['validation'][i]['question']\n",
    "    answer_true = datasets['validation'][i]['answers']['text'][0]\n",
    "    answer_predicted = qa_pipeline(question=question, context=context)\n",
    "    comparison = {\"answer_predicted\": answer_predicted['answer'],\"answer_true\":answer_true}\n",
    "    evaluation_results.append(comparison)\n",
    "\n",
    "datos = evaluation_results\n",
    "\n",
    "#WRITE NEW FILE WITH VALIDATE DATA            \n",
    "file_name2 = \"json_validatedata_files/data_baseline_bert-base-cased-squad2.json\"            \n",
    "with open(file_name2, 'w') as archivo_json:\n",
    "    json.dump(datos, archivo_json)\n",
    "\n",
    "print(f\"Se escribieron {len(datos)} textos medicos.\")\n",
    "print(f\"Se ha guardado la información en {file_name2}\") "
   ]
  },
  {
   "cell_type": "code",
   "execution_count": 6,
   "id": "5a59926e-1162-46c1-9e63-920ffff9892d",
   "metadata": {
    "tags": []
   },
   "outputs": [
    {
     "name": "stdout",
     "output_type": "stream",
     "text": [
      "[{'answer_predicted': 'Diabetes Mellitus', 'answer_true': 'Glyburide 5 mg p.o. q.d.,'}, {'answer_predicted': 'discharge', 'answer_true': 'daily, CellCept 1500 mg b.i.d., Protonix 20 mg daily, Pravachol 40 mg daily,'}, {'answer_predicted': 'medications', 'answer_true': 'lasix, and nebs for wheezing, and was monitored for lytes.'}]\n"
     ]
    }
   ],
   "source": [
    "#READ FILE\n",
    "import json\n",
    "\n",
    "file_name = \"json_validatedata_files/data_baseline_bert-base-cased-squad2.json\"\n",
    "\n",
    "with open(file_name, 'r') as archivo_json:\n",
    "    datos = json.load(archivo_json)\n",
    "print(datos[:3])"
   ]
  },
  {
   "cell_type": "code",
   "execution_count": null,
   "id": "21aa9216-6610-4d4a-a35a-8b000aee5c98",
   "metadata": {},
   "outputs": [],
   "source": []
  }
 ],
 "metadata": {
  "kernelspec": {
   "display_name": "THESIS",
   "language": "python",
   "name": "thesis"
  },
  "language_info": {
   "codemirror_mode": {
    "name": "ipython",
    "version": 3
   },
   "file_extension": ".py",
   "mimetype": "text/x-python",
   "name": "python",
   "nbconvert_exporter": "python",
   "pygments_lexer": "ipython3",
   "version": "3.11.4"
  }
 },
 "nbformat": 4,
 "nbformat_minor": 5
}
